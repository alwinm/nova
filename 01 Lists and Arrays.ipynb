{
 "cells": [
  {
   "cell_type": "code",
   "execution_count": null,
   "id": "b5f2a93c",
   "metadata": {},
   "outputs": [],
   "source": [
    "import numpy #install\n",
    "import matplotlib.pyplot #install\n",
    "import pylab # this is a convenient way to import pyplot, comes with matplotlib\n",
    "%load_ext autoreload\n",
    "%autoreload"
   ]
  },
  {
   "cell_type": "markdown",
   "id": "8dfa0e3d",
   "metadata": {},
   "source": [
    "# Lists and arrays\n",
    "\n",
    "**Life** would be easy if only one number was needed at a time. The human brain does an okay job at holding around 7 numbers (which is somehow related to the typical length of a phone number). Simulations can require $10^7$ numbers (if you are so fortunate). With billions of particles representing trillions of stars, or cubes of space with $10^3$ cells in each direction ($10^9$ total cells), we must be prepared to operate on many numbers in an easy way."
   ]
  },
  {
   "cell_type": "markdown",
   "id": "c5357ba6",
   "metadata": {},
   "source": [
    "# Lists (skippable)\n",
    "\n",
    "**Lists** store multiple objects. There are many useful things you can do with python lists. "
   ]
  },
  {
   "cell_type": "code",
   "execution_count": null,
   "id": "e040c1d5",
   "metadata": {
    "scrolled": true
   },
   "outputs": [],
   "source": [
    "_list = [] # empty list\n",
    "print(_list, \"empty\")\n",
    "\n",
    "_list.append(100) # add 100 to the end of the list\n",
    "print(_list, \"append\")\n",
    "\n",
    "_list.extend([95,93]) # add 95,93 to the list by extending with another list\n",
    "print(_list, \"extend\")\n",
    "\n",
    "_list += [91,89] # add 91,89 to the list by extending with another list, but using += syntax \n",
    "print(_list, \"extend +=\")\n",
    "\n",
    "_list.extend(2*i for i in range(20,25)) # add 40,42,44,48 to the list by extending with a \"loop comprehension\"\n",
    "print(_list, \"extend for\")\n",
    "\n",
    "_list.insert(2,400) # insert 400 at index 2\n",
    "print(_list, \"insert\")\n",
    "\n",
    "print(_list[2], \"access\") # print the object stored at index 2, which we expect to be 400\n",
    "\n",
    "_list.remove(93) # find and remove first occurrence of 93\n",
    "print(_list, \"remove\")\n",
    "\n",
    "variable = _list.pop() # remove the last element of _list and store it in a variable\n",
    "print(_list, \"pop\")\n",
    "print(variable)\n",
    "\n",
    "_list.pop() # remove the last element without storing it\n",
    "print(_list, \"pop\")\n",
    "\n",
    "variable = _list[-1] # look at the last element without removing it\n",
    "print(variable, \"access -1\")\n",
    "print(_list, f\"(note {variable} is still there)\")\n",
    "\n",
    "_list.reverse() # reverse\n",
    "print(_list, \"reverse\")\n",
    "\n",
    "_list.sort() # sorts the list!\n",
    "print(_list, \"sort\")\n",
    "\n",
    "print(sum(_list), \"sum\")\n",
    "\n",
    "print(max(_list), \"max\")\n",
    "\n",
    "print(min(_list), \"min\")\n",
    "\n"
   ]
  },
  {
   "cell_type": "markdown",
   "id": "cd5a0c2e",
   "metadata": {},
   "source": [
    "# Exercise: Try making a list of n square numbers."
   ]
  },
  {
   "cell_type": "code",
   "execution_count": null,
   "id": "10e373f0",
   "metadata": {},
   "outputs": [],
   "source": [
    "# Example solutions\n",
    "import square_numbers # included as .py\n",
    "\n",
    "print(square_numbers.list_comprehension(10))\n",
    "print(square_numbers.map_lambda(11))\n",
    "print(square_numbers.appending(12))\n",
    "print(square_numbers.access(13))\n",
    "\n"
   ]
  },
  {
   "cell_type": "markdown",
   "id": "b7fbcbd2",
   "metadata": {},
   "source": [
    "# Numpy Arrays\n",
    "\n",
    "**Numpy** Arrays are like lists, but much better for numbers. If you did the exercise above and/or read the source code of the answers, you may have thought, it sure takes a lot of work just to make a list of square numbers. Enter NumPy. Understanding NumPy arrays is like learning Gauss's law, in that it takes time to understand, but pays off when you save effort solving problems. "
   ]
  },
  {
   "cell_type": "code",
   "execution_count": null,
   "id": "43e9ba1b",
   "metadata": {
    "scrolled": true
   },
   "outputs": [],
   "source": [
    "# This is how you could do the above problem in numpy, and a few others just for fun\n",
    "x = numpy.arange(10)\n",
    "print('square',x*x)\n",
    "print('linear',2*x + 1)\n",
    "print('cubic ',x*x*x + x - 1)\n",
    "print('sqrt  ',numpy.sqrt(x))\n",
    "print('sin   ',numpy.sin(x))\n",
    "print('abssin',abs(numpy.sin(x)))"
   ]
  },
  {
   "cell_type": "markdown",
   "id": "5d8383de",
   "metadata": {},
   "source": [
    "**The** important takeaway from the above is that you can write code for a numpy array as though it is a single number, but then the operation is repeated element-wise. ```z = x+y``` will create an array z where ```z[i] = x[i] + y[i]``` for ```0 <= i < length```\". Not only i the code look simpler and shorter, but also faster (for large arrays). But can take time to get used to..."
   ]
  },
  {
   "cell_type": "markdown",
   "id": "237e043b",
   "metadata": {},
   "source": [
    "These are more complete documents of all the things you can do with NumPy arrays: \n",
    "\n",
    "Jake Vanderplas's Python Data Science Handbook\n",
    "https://jakevdp.github.io/PythonDataScienceHandbook/02.00-introduction-to-numpy.html\n",
    "\n",
    "NumPy Documentation (honestly quite reasonable to read)\n",
    "https://numpy.org/doc/\n",
    "\n",
    "Of course, Google is your friend... in practice you'll look up a function when you find the need to use it.\n",
    "\n",
    "I will highlight a few important things here:\n"
   ]
  },
  {
   "cell_type": "code",
   "execution_count": null,
   "id": "855f68a5",
   "metadata": {},
   "outputs": [],
   "source": [
    "x = numpy.arange(10)\n",
    "\n",
    "print('x',x)\n",
    "\n",
    "# slicing\n",
    "print('x[0::2]',x[0::2])\n",
    "\n",
    "print('x[::2]',x[::2])\n",
    "\n",
    "print('x[1::2]',x[1::2])\n",
    "\n",
    "print('x[0::3]',x[0::3])\n",
    "\n",
    "_slice = slice(0,10,2)\n",
    "print('slice()',x[_slice])\n",
    "\n",
    "# operations\n",
    "\n",
    "print('min',x.min())\n",
    "print('min',numpy.min(x))\n",
    "print('max',x.max())\n",
    "print('max',numpy.max(x))\n",
    "print('sum',x.sum())\n",
    "print('sum',numpy.sum(x))\n",
    "\n",
    "# zeros\n",
    "print('5 0s',numpy.zeros(5))\n",
    "\n",
    "# ones\n",
    "print('6 1s',numpy.ones(6))\n",
    "\n",
    "# linspace (11 numbers from 0 to 1 inclusive)\n",
    "print('linspace',numpy.linspace(0,1,11))\n",
    "\n"
   ]
  },
  {
   "cell_type": "markdown",
   "id": "806b042d",
   "metadata": {},
   "source": [
    "**Multi-dimensional** arrays are somewhat more difficult to think about and use, but of course very necessary.\n",
    "\n",
    "An n dimensional array is like an array of (n-1) dimensional arrays.\n",
    "\n",
    "`array[0]` will access the first (n-1) dimensional array, so if array is 3-D, then `array[0]` is 2-D. \n",
    "\n",
    "Since `array[0]` is a 2-D array, it is really an array of 1-D arrays, so we can do it again: `array[0][0]` accesses the first 1-D array. \n",
    "\n",
    "Numpy allows us to have a slightly easier time of it with `array[0,0]` \n",
    "\n",
    "To get a single number, we can try `array[0,0,0]`. Now, an array is looking suspiciously like a coordinate system! This is, of course, why arrays are so useful in computations, but this may also be a helpful alternative way to think about a multi-dimensional array. \n",
    "\n",
    "The other useful thing is that we can access the array in two different dimensions with slicing. Examples below (look at the output first, the input code is a bit of a mess since at this point in writing the tutorial I am experimenting with different formats of presenting examples):"
   ]
  },
  {
   "cell_type": "code",
   "execution_count": null,
   "id": "87680594",
   "metadata": {},
   "outputs": [],
   "source": [
    "array = numpy.arange(5) + numpy.zeros(4)[:,None]\n",
    "array[0][0] = 10\n",
    "\n",
    "def perform(task):\n",
    "    # helper function you can ignore\n",
    "    print(task,'\\n',eval(task),'\\n')\n",
    "    \n",
    "def gen():\n",
    "    # helper function you can ignore\n",
    "    tasks = ['array','array[0]','array[0][0]','array[0,0]','array[0,:]','array[0][:]','array[:,0]','array[:][0]']\n",
    "    for task in tasks:\n",
    "        print(f\"print('{task}','\\\\n',{task},'\\\\n')\\n\")\n",
    "\n",
    "print('multidimensional zeros')\n",
    "perform('numpy.zeros([5,4])')\n",
    "        \n",
    "print('array','\\n',array,'\\n')\n",
    "\n",
    "print('array[0]','\\n',array[0],'\\n')\n",
    "\n",
    "print('these next two are the same!')\n",
    "\n",
    "print('array[0][0]','\\n',array[0][0],'\\n')\n",
    "\n",
    "print('array[0,0]','\\n',array[0,0],'\\n')\n",
    "\n",
    "print('these next two are the same!')\n",
    "\n",
    "print('array[0,:]','\\n',array[0,:],'\\n')\n",
    "\n",
    "print('array[0][:]','\\n',array[0][:],'\\n')\n",
    "\n",
    "print('but these next two are not, can you understand why? take care not to fall into this trap in the future ;)')\n",
    "\n",
    "print('array[:,0]','\\n',array[:,0],'\\n')\n",
    "\n",
    "print('array[:][0]','\\n',array[:][0],'\\n')\n",
    "\n",
    "perform('numpy.sum(array[0])')\n",
    "\n",
    "perform('numpy.sum(array[:,0])')\n",
    "\n",
    "print('it can be hard to remember how summing over an axis works.\\n',\n",
    "    'try to understand this example--whenever I need to remember which axis I want to sum over,\\n'\n",
    "    'I try it on a small array like this to remind myself how it works\\n')\n",
    "\n",
    "perform('array.sum(axis=0)')\n",
    "\n",
    "perform('array.sum(axis=1)')\n",
    "\n",
    "perform('[array[:,i].sum() for i in range(5)]')\n",
    "perform('[array[i,:].sum() for i in range(4)]')\n"
   ]
  },
  {
   "cell_type": "markdown",
   "id": "75336433",
   "metadata": {},
   "source": [
    "**To** briefly explain summing over an axis, `axis=0` refers to summing over the first index. In a coordinate analogy, it is analogous to doing an integral over the x-direction for fixed y. Similarly, `axis=1` refers to summing over the second index, and is like doing an integral over the y-direction for fixed x.  This will come in handy when we want to do projections of our simulations. \n",
    "\n",
    "`array.sum(axis=0)[i] = array[:,i].sum()`\n",
    "\n",
    "`array.sum(axis=1)[i] = array[i,:].sum()`\n",
    "\n",
    "Slicing and summing (projections) are both ways to reduce the dimensions of data in order to make it feasible for our 3-D brains and 2-D retinae to see images on 2-D computer screens."
   ]
  },
  {
   "cell_type": "markdown",
   "id": "605f2fc4",
   "metadata": {},
   "source": [
    "# Plotting 1-D arrays\n",
    "\n",
    "Surely, you tire of seeing the arrays printed out. As do I. It's much more interesting to see them plotted. For now, we will just use the simple tool, pylab.plot. "
   ]
  },
  {
   "cell_type": "code",
   "execution_count": null,
   "id": "97ffb414",
   "metadata": {},
   "outputs": [],
   "source": [
    "pylab.plot(x,x*x)"
   ]
  },
  {
   "cell_type": "code",
   "execution_count": null,
   "id": "b6388266",
   "metadata": {},
   "outputs": [],
   "source": [
    "pylab.plot(x,2*x+1)"
   ]
  },
  {
   "cell_type": "code",
   "execution_count": null,
   "id": "39ab9d76",
   "metadata": {},
   "outputs": [],
   "source": [
    "pylab.plot(x,x*x*x+x-1)"
   ]
  },
  {
   "cell_type": "code",
   "execution_count": null,
   "id": "2f80b02b",
   "metadata": {},
   "outputs": [],
   "source": [
    "pylab.plot(x,numpy.sqrt(x))"
   ]
  },
  {
   "cell_type": "code",
   "execution_count": null,
   "id": "c572119d",
   "metadata": {},
   "outputs": [],
   "source": [
    "pylab.plot(x,numpy.sin(0.7*x))"
   ]
  },
  {
   "cell_type": "markdown",
   "id": "72162a0c",
   "metadata": {},
   "source": [
    "# Exercise: The sine curve looks ugly because it is low resolution. Try making a beautiful sine curve instead!\n",
    "\n",
    "Hints:\n",
    " - Use 1000 points (don't worry, even though it is 100 times as many points and will take 100 times longer, since NumPy is fast, you won't notice a thing)\n",
    " - What is the right range of x to produce a full oscillation? Or two? How will you produce that range?\n",
    " - If you want, you can try plotting the x-axis in units of degrees, although numpy.sin takes values in radians"
   ]
  },
  {
   "cell_type": "code",
   "execution_count": null,
   "id": "2198bac1",
   "metadata": {},
   "outputs": [],
   "source": [
    "from sine_wave import a,b,c,d\n",
    "funcs = [a,b,c,d]\n",
    "letters = 'abcd'\n",
    "\n",
    "# an example of making multiple plots in a for loop\n",
    "\n",
    "for i in range(4):\n",
    "    pylab.subplot(2,2,i+1)\n",
    "    pylab.title(letters[i])\n",
    "    funcs[i]()\n",
    "    if i == 3:\n",
    "        pylab.xlabel('Degrees')\n",
    "    else:\n",
    "        pylab.xlabel('Radians')\n",
    "        \n",
    "pylab.tight_layout()\n"
   ]
  },
  {
   "cell_type": "markdown",
   "id": "f9a92f2f",
   "metadata": {},
   "source": [
    "# Other plotting stuff"
   ]
  },
  {
   "cell_type": "code",
   "execution_count": null,
   "id": "47970665",
   "metadata": {},
   "outputs": [],
   "source": [
    "# Subplots and multiple plots on 1 panel\n",
    "\n",
    "nh = 2\n",
    "nw = 2\n",
    "pylab.subplot(nh,nw,1)\n",
    "pylab.plot(x,x*x)\n",
    "\n",
    "pylab.subplot(nh,nw,2)\n",
    "pylab.plot(x,2*x+1)\n",
    "\n",
    "pylab.subplot(nh,nw,3)\n",
    "pylab.plot(x,x*x*x+x-1)\n",
    "\n",
    "pylab.subplot(nh,nw,4)\n",
    "# multiple plots \n",
    "pylab.plot(x,numpy.sqrt(x))\n",
    "pylab.plot(x,numpy.sin(0.7*x))"
   ]
  },
  {
   "cell_type": "code",
   "execution_count": null,
   "id": "e89a2186",
   "metadata": {},
   "outputs": [],
   "source": [
    "# marker='+' sets the marker to +\n",
    "# linestyle = \"None\" removes the points\n",
    "# color = 'Purple' makes the color purple \n",
    "\n",
    "pylab.plot(numpy.sin(0.7*x),x,marker='+',linestyle=\"None\",label='Legend Label',color='Purple')\n",
    "pylab.xlabel('X label')\n",
    "pylab.ylabel('Y label')\n",
    "pylab.title('Title')\n",
    "pylab.legend() # instruct python to actually draw a legend"
   ]
  },
  {
   "cell_type": "code",
   "execution_count": null,
   "id": "f146bf53",
   "metadata": {},
   "outputs": [],
   "source": [
    "# shortcut ls for linestyle and c for color\n",
    "pylab.plot(numpy.sin(0.7*x),x,marker='+',ls=\"None\",label='Legend Label',c='Purple')"
   ]
  },
  {
   "cell_type": "code",
   "execution_count": null,
   "id": "2f772315",
   "metadata": {},
   "outputs": [],
   "source": [
    "# 'm+' tells it to make magenta plus signs \n",
    "\n",
    "pylab.plot(numpy.sin(0.7*x),x,'m+',label='Legend Label')"
   ]
  },
  {
   "cell_type": "code",
   "execution_count": null,
   "id": "75b972c0",
   "metadata": {},
   "outputs": [],
   "source": [
    "# '+' tells it to make plus signs, any color is fine. \n",
    "# So the second plot has an automatically assigned different color.\n",
    "# These colors are called 'C0' and 'C1'\n",
    "pylab.plot(numpy.sin(0.7*x),x,'+')\n",
    "pylab.plot(x,numpy.sin(0.7*x),'+')"
   ]
  },
  {
   "cell_type": "code",
   "execution_count": null,
   "id": "2e7a6931",
   "metadata": {},
   "outputs": [],
   "source": []
  }
 ],
 "metadata": {
  "kernelspec": {
   "display_name": "Python 3",
   "language": "python",
   "name": "python3"
  },
  "language_info": {
   "codemirror_mode": {
    "name": "ipython",
    "version": 3
   },
   "file_extension": ".py",
   "mimetype": "text/x-python",
   "name": "python",
   "nbconvert_exporter": "python",
   "pygments_lexer": "ipython3",
   "version": "3.9.5"
  }
 },
 "nbformat": 4,
 "nbformat_minor": 5
}
