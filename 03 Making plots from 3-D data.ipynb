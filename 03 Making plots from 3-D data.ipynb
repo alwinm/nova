{
 "cells": [
  {
   "cell_type": "markdown",
   "id": "b7f7b774",
   "metadata": {},
   "source": [
    "# Making plots from multiple 3-D datasets\n",
    "\n",
    "**The** advanced student will recognize that 01 + 02 = 03, and in this section we will bring together array manipulation tools (01) and data loading tools (02) to make plots. This section will be focused on exercises, with only a few examples to introduce `pcolormesh` and `imshow`, two options for making 2-D plots."
   ]
  },
  {
   "cell_type": "code",
   "execution_count": null,
   "id": "4e39df88",
   "metadata": {},
   "outputs": [],
   "source": [
    "import numpy\n",
    "import pylab\n",
    "%load_ext autoreload\n",
    "%autoreload\n",
    "\n",
    "x = numpy.arange(20)\n",
    "z = numpy.zeros(10)\n",
    "\n",
    "array = z + x[:,None]\n",
    "\n",
    "print(array)\n"
   ]
  },
  {
   "cell_type": "code",
   "execution_count": null,
   "id": "58863f68",
   "metadata": {},
   "outputs": [],
   "source": [
    "pylab.imshow(array)"
   ]
  },
  {
   "cell_type": "code",
   "execution_count": null,
   "id": "94498842",
   "metadata": {},
   "outputs": [],
   "source": [
    "pylab.imshow(array,origin='lower')"
   ]
  },
  {
   "cell_type": "code",
   "execution_count": null,
   "id": "63b1bc67",
   "metadata": {},
   "outputs": [],
   "source": [
    "pylab.pcolormesh(array)"
   ]
  },
  {
   "cell_type": "code",
   "execution_count": null,
   "id": "c768db15",
   "metadata": {},
   "outputs": [],
   "source": [
    "pylab.pcolormesh(array.transpose())"
   ]
  },
  {
   "cell_type": "code",
   "execution_count": null,
   "id": "2ac4bea6",
   "metadata": {},
   "outputs": [],
   "source": [
    "random_x = numpy.random.random(200)\n",
    "random_y = numpy.random.random(200)\n",
    "pylab.subplot(1,2,1)\n",
    "pylab.scatter(random_x,random_y)\n",
    "pylab.subplot(1,2,2)\n",
    "pylab.plot(random_x,random_y,'+')"
   ]
  },
  {
   "cell_type": "markdown",
   "id": "90808055",
   "metadata": {},
   "source": [
    "# Exercise: make center slice plots of the 'example' data from 'trash.h5' from 3 orientations\n",
    "\n",
    "- 'trash.h5' is generated in Notebook 02\n",
    "- The slices you plot should be the same slices as you used in the final exercise from Notebook 02\n",
    "- Use imshow or pcolormesh\n",
    "- Feel free to add labels, or a colorbar, or use subplots!"
   ]
  },
  {
   "cell_type": "code",
   "execution_count": null,
   "id": "d7894150",
   "metadata": {},
   "outputs": [],
   "source": [
    "# your code here"
   ]
  },
  {
   "cell_type": "markdown",
   "id": "51c5daea",
   "metadata": {},
   "source": [
    "# Exercise: make projection plots of the 'example' data from 'trash.h5' from 3 orientations\n",
    "\n",
    "- Use a sum to make a projection"
   ]
  },
  {
   "cell_type": "code",
   "execution_count": null,
   "id": "bc842609",
   "metadata": {},
   "outputs": [],
   "source": [
    "# your code here"
   ]
  },
  {
   "cell_type": "code",
   "execution_count": null,
   "id": "98407845",
   "metadata": {},
   "outputs": [],
   "source": [
    "# example plot for the above exercises\n",
    "\n",
    "import plot2 # included as .py\n",
    "plot2.main()"
   ]
  },
  {
   "cell_type": "markdown",
   "id": "b1a86a01",
   "metadata": {},
   "source": [
    "# Exercise: Make a histogram of the 'radius' dataset from 'trash.h5'\n",
    "\n",
    "- You can use pylab.hist\n",
    "- Make sure you flatten the array (you may have to look up what this means)\n",
    "- Can you find the secret ingredient to make your result look like the below?"
   ]
  },
  {
   "cell_type": "code",
   "execution_count": null,
   "id": "2e7939f7",
   "metadata": {},
   "outputs": [],
   "source": [
    "# your code here"
   ]
  },
  {
   "cell_type": "code",
   "execution_count": null,
   "id": "68a6fd05",
   "metadata": {},
   "outputs": [],
   "source": [
    "import plot2\n",
    "plot2.histogram()"
   ]
  },
  {
   "cell_type": "markdown",
   "id": "76dd46be",
   "metadata": {},
   "source": [
    "# Exercise: Use scatter and hist2d to explore correlations between 'radius' and 'example'\n",
    "\n",
    "- This is not a very good example because of the simple nature of 'trash.h5' \n",
    "- scatter and hist2d are both functions in pylab or matplotlib"
   ]
  },
  {
   "cell_type": "code",
   "execution_count": null,
   "id": "10f92419",
   "metadata": {},
   "outputs": [],
   "source": [
    "# your code here"
   ]
  },
  {
   "cell_type": "code",
   "execution_count": null,
   "id": "f6afe943",
   "metadata": {},
   "outputs": [],
   "source": [
    "import plot2\n",
    "plot2.correlation()"
   ]
  },
  {
   "cell_type": "markdown",
   "id": "1fc28fd4",
   "metadata": {},
   "source": [
    "# Exercise: repeat on real data\n",
    "\n",
    "- Now it's time to attain some real data and use some of these tools to get a feel for the contents of the data\n",
    "- What does the data look like, spatially?\n",
    "- How do different parts of the data correlate?\n",
    "- Are there any obvious patterns or symmetries? "
   ]
  },
  {
   "cell_type": "code",
   "execution_count": null,
   "id": "618bb450",
   "metadata": {},
   "outputs": [],
   "source": []
  }
 ],
 "metadata": {
  "kernelspec": {
   "display_name": "Python 3",
   "language": "python",
   "name": "python3"
  },
  "language_info": {
   "codemirror_mode": {
    "name": "ipython",
    "version": 3
   },
   "file_extension": ".py",
   "mimetype": "text/x-python",
   "name": "python",
   "nbconvert_exporter": "python",
   "pygments_lexer": "ipython3",
   "version": "3.9.5"
  }
 },
 "nbformat": 4,
 "nbformat_minor": 5
}
