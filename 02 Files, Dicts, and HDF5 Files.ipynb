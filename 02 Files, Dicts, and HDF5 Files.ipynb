{
 "cells": [
  {
   "cell_type": "markdown",
   "id": "ced972ce",
   "metadata": {},
   "source": [
    "# Files, Dicts, and HDF5 Files\n",
    "\n",
    "**Somehow** we have to access data, which is often stored in files. I'll show a few ways of loading data from files (many of which you can skip, but otherwise quite useful in general and frequently used), leading up to HDF5 files. I'll also describe Python Dictionaries because the way you access data in an HDF5 File is related to the way you access data in a Python Dictionary.\n",
    "\n",
    "# Files (skippable)"
   ]
  },
  {
   "cell_type": "code",
   "execution_count": 2,
   "id": "5c2786c0",
   "metadata": {},
   "outputs": [],
   "source": [
    "# Writing numbers from 0 to 9 in a file using vanilla python\n",
    "\n",
    "with open('trash01.txt','w') as _file:\n",
    "    for i in range(10):\n",
    "        _file.write(str(i))\n",
    "        _file.write('\\n')\n",
    "\n",
    "# the 'with' keyword will automatically close and save the file when it is done"
   ]
  },
  {
   "cell_type": "code",
   "execution_count": 19,
   "id": "045f9be8",
   "metadata": {},
   "outputs": [
    {
     "name": "stdout",
     "output_type": "stream",
     "text": [
      "0\n",
      "1\n",
      "2\n",
      "3\n",
      "4\n",
      "5\n",
      "6\n",
      "7\n",
      "8\n",
      "9\n",
      "\n",
      "readlines\n",
      " ['0\\n', '1\\n', '2\\n', '3\\n', '4\\n', '5\\n', '6\\n', '7\\n', '8\\n', '9\\n']\n",
      "process the lines as ints\n",
      " [0, 1, 2, 3, 4, 5, 6, 7, 8, 9]\n",
      "loadtxt\n",
      " [0. 1. 2. 3. 4. 5. 6. 7. 8. 9.]\n",
      "numpy.loadtxt\n",
      " [[0. 0. 0.]\n",
      " [1. 1. 1.]\n",
      " [2. 2. 2.]\n",
      " [3. 3. 3.]\n",
      " [4. 4. 4.]\n",
      " [5. 5. 5.]\n",
      " [6. 6. 6.]\n",
      " [7. 7. 7.]\n",
      " [8. 8. 8.]\n",
      " [9. 9. 9.]]\n",
      "numpy.load\n",
      " [[0. 0. 0.]\n",
      " [1. 1. 1.]\n",
      " [2. 2. 2.]\n",
      " [3. 3. 3.]\n",
      " [4. 4. 4.]\n",
      " [5. 5. 5.]\n",
      " [6. 6. 6.]\n",
      " [7. 7. 7.]\n",
      " [8. 8. 8.]\n",
      " [9. 9. 9.]]\n"
     ]
    }
   ],
   "source": [
    "# I encourage you to look at these files after they are made to see what they look like inside\n",
    "# Go ahead and delete them when you are done\n",
    "\n",
    "# Reading file using vanilla python\n",
    "with open('trash01.txt','r') as _file:\n",
    "    print(_file.read())\n",
    "    \n",
    "with open('trash01.txt','r') as _file:\n",
    "    lines = _file.readlines()\n",
    "\n",
    "print('readlines\\n',lines)\n",
    "\n",
    "# An example of parsing a file read with vanilla python\n",
    "print('process the lines as ints\\n',list(map(int,lines)))\n",
    "\n",
    "# Reading and writing files using numpy \n",
    "import numpy # install\n",
    "\n",
    "print('loadtxt\\n',numpy.loadtxt('trash01.txt'))\n",
    "\n",
    "data = numpy.arange(10)[:,None] + numpy.zeros(3)\n",
    "\n",
    "numpy.savetxt('trash02.txt',data)\n",
    "\n",
    "numpy.save('trash03.npy',data)\n",
    "\n",
    "print('numpy.loadtxt\\n',numpy.loadtxt('trash02.txt'))\n",
    "print('numpy.load\\n',numpy.load('trash03.npy'))\n",
    "\n"
   ]
  },
  {
   "cell_type": "markdown",
   "id": "b728ecf1",
   "metadata": {},
   "source": [
    "# Dicts (skippable)\n",
    "\n",
    "**Dictionaries** are a very useful Python data structure related to mystical entities called hash maps. I'll show some examples on how to use them, which will be useful for HDF5 files. "
   ]
  },
  {
   "cell_type": "code",
   "execution_count": 32,
   "id": "40a2f823",
   "metadata": {},
   "outputs": [
    {
     "name": "stdout",
     "output_type": "stream",
     "text": [
      "{}\n",
      "{'a': 1, 'b': 2}\n",
      "1\n",
      "2\n",
      "False\n",
      "True\n",
      "True\n",
      "{'a': 1, 'b': 2, 'c': 3, 1: 'apple', 2: 'banana', 3: 'cherry'}\n",
      "{'a': 1, 'b': 2, 'c': 3, 1: 'alpha', 2: 'beta', 3: 'gamma'}\n",
      "dict_keys(['a', 'b', 'c', 1, 2, 3])\n",
      "dict_values([1, 2, 3, 'alpha', 'beta', 'gamma'])\n"
     ]
    }
   ],
   "source": [
    "# make an empty dict\n",
    "_dict = {}\n",
    "\n",
    "print(_dict)\n",
    "\n",
    "# make a dict with some stuff in it\n",
    "_dict = {'a':1, 'b':2}\n",
    "\n",
    "print(_dict)\n",
    "print(_dict['a'])\n",
    "print(_dict['b'])\n",
    "\n",
    "# see if a key is in _dict\n",
    "print('c' in _dict)\n",
    "print('b' in _dict)\n",
    "print('a' in _dict)\n",
    "\n",
    "# add stuff to a dict\n",
    "_dict['c'] = 3\n",
    "_dict[1] = 'apple'\n",
    "_dict[2] = 'banana'\n",
    "_dict[3] = 'cherry'\n",
    "\n",
    "print(_dict)\n",
    "\n",
    "# modify stuff\n",
    "_dict[1] = 'alpha'\n",
    "_dict[2] = 'beta'\n",
    "_dict[3] = 'gamma'\n",
    "\n",
    "print(_dict)\n",
    "\n",
    "print(_dict.keys())\n",
    "print(_dict.values())"
   ]
  },
  {
   "cell_type": "code",
   "execution_count": 45,
   "id": "8b601b31",
   "metadata": {},
   "outputs": [
    {
     "name": "stdout",
     "output_type": "stream",
     "text": [
      "<HDF5 file \"trash.h5\" (mode r)>\n",
      "<KeysViewHDF5 ['example', 'radius']>\n",
      "<HDF5 dataset \"example\": shape (50, 50, 50), type \"<f8\">\n",
      "<HDF5 dataset \"radius\": shape (50, 50, 50), type \"<f8\">\n",
      "42.4352447854375\n",
      "3001354.051036985\n"
     ]
    }
   ],
   "source": [
    "import numpy #install\n",
    "import h5py # install\n",
    "import make_h5 # included as .py\n",
    "\n",
    "make_h5.main() # creates trash.h5\n",
    "\n",
    "with h5py.File('trash.h5','r') as _file:\n",
    "    \n",
    "    # a python object representing the file\n",
    "    print(_file)\n",
    "    # finding the keys, as you would find the keys of a dict\n",
    "    print(_file.keys())\n",
    "    # using the key 'example'\n",
    "    print(_file['example'])\n",
    "    # using the key 'radius'\n",
    "    print(_file['radius'])\n",
    "    # accessing the [0,0,0] element of 'radius', since it is an array\n",
    "    print(_file['radius'][0,0,0])\n",
    "    # finding the sum of the array 'radius,' treating it as a numpy array\n",
    "    print(numpy.sum(_file['radius']))"
   ]
  },
  {
   "cell_type": "markdown",
   "id": "ed423762",
   "metadata": {},
   "source": [
    "# Exercise: Print the sum of the middle slice of the 'example' dataset of 'trash.h5' for all 3 directions"
   ]
  },
  {
   "cell_type": "code",
   "execution_count": 1,
   "id": "95e78436",
   "metadata": {},
   "outputs": [
    {
     "name": "stdout",
     "output_type": "stream",
     "text": [
      "38.0\n",
      "242.0\n",
      "902.0\n"
     ]
    }
   ],
   "source": [
    "import make_h5\n",
    "make_h5.solution()\n"
   ]
  },
  {
   "cell_type": "code",
   "execution_count": null,
   "id": "8151e99a",
   "metadata": {},
   "outputs": [],
   "source": []
  }
 ],
 "metadata": {
  "kernelspec": {
   "display_name": "Python 3",
   "language": "python",
   "name": "python3"
  },
  "language_info": {
   "codemirror_mode": {
    "name": "ipython",
    "version": 3
   },
   "file_extension": ".py",
   "mimetype": "text/x-python",
   "name": "python",
   "nbconvert_exporter": "python",
   "pygments_lexer": "ipython3",
   "version": "3.9.5"
  }
 },
 "nbformat": 4,
 "nbformat_minor": 5
}
