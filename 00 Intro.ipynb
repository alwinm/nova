{
 "cells": [
  {
   "cell_type": "markdown",
   "id": "ffb62b7c",
   "metadata": {},
   "source": [
    "Rough idea for this notebook:\n",
    "\n",
    " - Bring user to goal as fast as possible, leaving completeness to other documents\n",
    " - But include some skippable tips/tricks that would be hard to discover under normal problem-solving conditions\n",
    " - A short list of tasks (focused on advanced/useful examples)\n",
    " - Relevant hints for each task, brief tutorials and tips interspersed\n",
    " - Solutions included in separate files to improve experience of **trying solution yourself** (I had noticed that when the solution is right before my eyes, as in some other tutorials/notebooks, it removes the fun of trying to come up with the solution myself, so a slight degree of separation seems desirable, and having reference solutions is useful).\n",
    " \n",
    "Module comments:\n",
    " - For python standard lib modules, comment with #standard\n",
    " - For modules that need to be installed, comment with #install\n",
    " - For modules that are included as files under nova/ directory, comment with #included as .py\n",
    " \n",
    " \n",
    " \n",
    "Outline:\n",
    " - 01 Manipulating numpy arrays and 1-D plots\n",
    " - 02 Loading data (numpy.loadtxt, h5py.File)\n",
    " - 03 Reducing 3-D data for our 2-D retinae (matplotlib imshow/pcolormesh)\n",
    " \n",
    "Refer to:\n",
    "\n",
    "https://jakevdp.github.io/PythonDataScienceHandbook/\n",
    "https://numpy.org/doc/\n",
    "https://matplotlib.org/\n",
    "https://www.h5py.org/\n",
    "\n",
    "For complete documentation of useful tools, and highly recommend using stackoverflow and search engines while trying to find the right functions to use to solve problems. \n"
   ]
  },
  {
   "cell_type": "code",
   "execution_count": null,
   "id": "44a6ef28",
   "metadata": {},
   "outputs": [],
   "source": []
  }
 ],
 "metadata": {
  "kernelspec": {
   "display_name": "Python 3",
   "language": "python",
   "name": "python3"
  },
  "language_info": {
   "codemirror_mode": {
    "name": "ipython",
    "version": 3
   },
   "file_extension": ".py",
   "mimetype": "text/x-python",
   "name": "python",
   "nbconvert_exporter": "python",
   "pygments_lexer": "ipython3",
   "version": "3.9.5"
  }
 },
 "nbformat": 4,
 "nbformat_minor": 5
}
